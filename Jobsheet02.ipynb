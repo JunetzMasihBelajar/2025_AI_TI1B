{
  "nbformat": 4,
  "nbformat_minor": 0,
  "metadata": {
    "colab": {
      "provenance": [],
      "toc_visible": true,
      "authorship_tag": "ABX9TyOWVTLscl3Xjhyj4UyOzq9g",
      "include_colab_link": true
    },
    "kernelspec": {
      "name": "python3",
      "display_name": "Python 3"
    },
    "language_info": {
      "name": "python"
    }
  },
  "cells": [
    {
      "cell_type": "markdown",
      "metadata": {
        "id": "view-in-github",
        "colab_type": "text"
      },
      "source": [
        "<a href=\"https://colab.research.google.com/github/JunetzMasihBelajar/2025_AI_TI1B/blob/main/Jobsheet02.ipynb\" target=\"_parent\"><img src=\"https://colab.research.google.com/assets/colab-badge.svg\" alt=\"Open In Colab\"/></a>"
      ]
    },
    {
      "cell_type": "markdown",
      "source": [
        "# Jobsheet 2: Operasi matematika, Vektor, Matriks dan Tipe Data"
      ],
      "metadata": {
        "id": "eGuKL8sBp7UM"
      }
    },
    {
      "cell_type": "markdown",
      "source": [
        "## 1. Operasi Matematika menggunakan python\n"
      ],
      "metadata": {
        "id": "ckABs9UTqD0d"
      }
    },
    {
      "cell_type": "markdown",
      "source": [
        "### a. Mendapatkan nilai minimum dan maksimum"
      ],
      "metadata": {
        "id": "d-rkVp6DqVt7"
      }
    },
    {
      "cell_type": "code",
      "source": [
        "x = min(5, 10, 25)\n",
        "y = max(6, 12, 18)\n",
        "print(x)\n",
        "print(y)"
      ],
      "metadata": {
        "id": "YonRFiEtqIxy",
        "outputId": "2f067bea-fbb5-455c-ecf2-34ec45cb533d",
        "colab": {
          "base_uri": "https://localhost:8080/"
        }
      },
      "execution_count": 1,
      "outputs": [
        {
          "output_type": "stream",
          "name": "stdout",
          "text": [
            "5\n",
            "18\n"
          ]
        }
      ]
    },
    {
      "cell_type": "markdown",
      "source": [
        "### b. Mendapatkan nilai absolut"
      ],
      "metadata": {
        "id": "ARRthjSYqblg"
      }
    },
    {
      "cell_type": "code",
      "source": [
        "x = abs(-7.25)\n",
        "print(x)"
      ],
      "metadata": {
        "id": "NsOQxUYjqeT9",
        "outputId": "63f89a3f-3d35-4f90-c3cf-35633533811b",
        "colab": {
          "base_uri": "https://localhost:8080/"
        }
      },
      "execution_count": 3,
      "outputs": [
        {
          "output_type": "stream",
          "name": "stdout",
          "text": [
            "7.25\n"
          ]
        }
      ]
    },
    {
      "cell_type": "markdown",
      "source": [
        "### c. Mendapatkan nilai pangkat"
      ],
      "metadata": {
        "id": "TrS3wJp7qmUa"
      }
    },
    {
      "cell_type": "code",
      "source": [
        "import math\n",
        "x = math.pow(4, 3)\n",
        "print(x)"
      ],
      "metadata": {
        "id": "GD9WmcGdqojg",
        "outputId": "d2115fad-5882-486f-c76a-30ccfe19d38a",
        "colab": {
          "base_uri": "https://localhost:8080/"
        }
      },
      "execution_count": 4,
      "outputs": [
        {
          "output_type": "stream",
          "name": "stdout",
          "text": [
            "64.0\n"
          ]
        }
      ]
    },
    {
      "cell_type": "markdown",
      "source": [
        "### d. Mendapatkan nilai akar"
      ],
      "metadata": {
        "id": "IiOnzU-6qwVP"
      }
    },
    {
      "cell_type": "code",
      "source": [
        "import math\n",
        "x = math.sqrt(64)\n",
        "print(x)"
      ],
      "metadata": {
        "id": "XEYl7lJVqyjz",
        "outputId": "7f27ddf6-ab32-4295-9953-fb43d6630c59",
        "colab": {
          "base_uri": "https://localhost:8080/"
        }
      },
      "execution_count": 5,
      "outputs": [
        {
          "output_type": "stream",
          "name": "stdout",
          "text": [
            "8.0\n"
          ]
        }
      ]
    },
    {
      "cell_type": "markdown",
      "source": [
        "### e. Mendapatkan nilai pembulatan"
      ],
      "metadata": {
        "id": "nYx7oyYdq2f1"
      }
    },
    {
      "cell_type": "code",
      "source": [
        "import math\n",
        "x = math.ceil(1.4)\n",
        "y = math.floor(1.4)\n",
        "print(x)\n",
        "print(y)"
      ],
      "metadata": {
        "id": "-DaoCXO1q5Ha",
        "outputId": "e634789d-eb28-4697-f337-45fe5e5d8272",
        "colab": {
          "base_uri": "https://localhost:8080/"
        }
      },
      "execution_count": 6,
      "outputs": [
        {
          "output_type": "stream",
          "name": "stdout",
          "text": [
            "2\n",
            "1\n"
          ]
        }
      ]
    },
    {
      "cell_type": "markdown",
      "source": [
        "### f. Mendapatkan nilai konstanta"
      ],
      "metadata": {
        "id": "d-hFpktxq-On"
      }
    },
    {
      "cell_type": "code",
      "source": [
        "import math\n",
        "x = math.pi\n",
        "print(x)"
      ],
      "metadata": {
        "id": "Urboo_XxrDgV",
        "outputId": "965c9b9b-ab43-4139-c219-102a94a514da",
        "colab": {
          "base_uri": "https://localhost:8080/"
        }
      },
      "execution_count": 8,
      "outputs": [
        {
          "output_type": "stream",
          "name": "stdout",
          "text": [
            "3.141592653589793\n"
          ]
        }
      ]
    },
    {
      "cell_type": "markdown",
      "source": [
        "## 2. Menggunakan fungsi MATH\n"
      ],
      "metadata": {
        "id": "QJ6Bn0-zrJjc"
      }
    },
    {
      "cell_type": "code",
      "source": [
        "import math\n",
        "\n",
        "a = math.sin(45)\n",
        "b = math.cos(90)\n",
        "c = math.tan(180)\n",
        "d = math.log(8)\n",
        "e = math.log10(60)\n",
        "f = math.degrees(2)\n",
        "x = (1, 2)\n",
        "y = (4, 6)\n",
        "g = math.dist(x,y)\n",
        "h = math.factorial(5)\n",
        "i = math.fmod(10, 3)\n",
        "j = math.isnan(float('nan'))\n",
        "k = math.gamma(5)\n",
        "l = math.perm(5, 2)\n",
        "\n",
        "print(a)\n",
        "print(b)\n",
        "print(c)\n",
        "print(d)\n",
        "print(e)\n",
        "print(f)\n",
        "print(g)\n",
        "print(h)\n",
        "print(i)\n",
        "print(j)\n",
        "print(k)\n",
        "print(l)\n"
      ],
      "metadata": {
        "id": "c2diWW_2rNXh",
        "outputId": "243f3fef-b713-447e-90f1-74cc879bad6d",
        "colab": {
          "base_uri": "https://localhost:8080/"
        }
      },
      "execution_count": 9,
      "outputs": [
        {
          "output_type": "stream",
          "name": "stdout",
          "text": [
            "0.8509035245341184\n",
            "-0.4480736161291701\n",
            "1.3386902103511544\n",
            "2.0794415416798357\n",
            "1.7781512503836436\n",
            "114.59155902616465\n",
            "5.0\n",
            "120\n",
            "1.0\n",
            "True\n",
            "24.0\n",
            "20\n"
          ]
        }
      ]
    },
    {
      "cell_type": "markdown",
      "source": [
        "## 3. Operasi Matriks dan vektor dengan python"
      ],
      "metadata": {
        "id": "1yWO31NTuIj-"
      }
    },
    {
      "cell_type": "markdown",
      "source": [
        "### a. Membuat matriks di python"
      ],
      "metadata": {
        "id": "l06a1L-cuNQF"
      }
    },
    {
      "cell_type": "code",
      "source": [
        "import numpy as np\n",
        "A = np.array([[80, 30, 25],\n",
        "[50, 20, 10]])\n",
        "B = np.array([[30, 60, 15],\n",
        "[10, 30, 30]])\n",
        "\n",
        "hasil = A + B\n",
        "print(hasil)"
      ],
      "metadata": {
        "id": "wLJaSgciuL1-",
        "outputId": "4f221f97-aa10-4458-b871-945b911c3a4f",
        "colab": {
          "base_uri": "https://localhost:8080/"
        }
      },
      "execution_count": 10,
      "outputs": [
        {
          "output_type": "stream",
          "name": "stdout",
          "text": [
            "[[110  90  40]\n",
            " [ 60  50  40]]\n"
          ]
        }
      ]
    },
    {
      "cell_type": "markdown",
      "source": [
        "### b. Melakukan operasi dot product"
      ],
      "metadata": {
        "id": "-tQTFguxuaze"
      }
    },
    {
      "cell_type": "code",
      "source": [
        "import numpy as np\n",
        "A = np.array([10, 20, 15])\n",
        "B = np.array([16, 67, 35])\n",
        "\n",
        "hasil = np.dot(A, B)\n",
        "print(hasil)"
      ],
      "metadata": {
        "id": "29n_rTszudeX",
        "outputId": "d6327cac-b669-4042-aa77-da67ce0a9f8c",
        "colab": {
          "base_uri": "https://localhost:8080/"
        }
      },
      "execution_count": 11,
      "outputs": [
        {
          "output_type": "stream",
          "name": "stdout",
          "text": [
            "2025\n"
          ]
        }
      ]
    },
    {
      "cell_type": "markdown",
      "source": [
        "### c. Melakukan operasi cross product"
      ],
      "metadata": {
        "id": "b50ByXa_vVEo"
      }
    },
    {
      "cell_type": "code",
      "source": [
        "import numpy as np\n",
        "A = np.array([10, 20, 15])\n",
        "B = np.array([16, 67, 35])\n",
        "\n",
        "Hasil = np.cross(A, B)\n",
        "print(Hasil)"
      ],
      "metadata": {
        "id": "OZluAFbjvX0m",
        "outputId": "02a71b52-65d1-4ec2-a90f-4645fe83cc21",
        "colab": {
          "base_uri": "https://localhost:8080/"
        }
      },
      "execution_count": 12,
      "outputs": [
        {
          "output_type": "stream",
          "name": "stdout",
          "text": [
            "[-305 -110  350]\n"
          ]
        }
      ]
    },
    {
      "cell_type": "markdown",
      "source": [
        "# TUGAS PRAKTIKUM"
      ],
      "metadata": {
        "id": "HUkUi5BFywc1"
      }
    },
    {
      "cell_type": "code",
      "source": [
        "import numpy as np\n",
        "\n",
        "A = np.array([[3, 1],\n",
        "              [2, 0]])\n",
        "\n",
        "B = np.array([[2, 1],\n",
        "              [1, -1]])\n",
        "\n",
        "C = np.array([[-1, 1, 2],\n",
        "              [2, 0, -1]])\n",
        "\n",
        "AxB = np.dot(A, B)\n",
        "BxC = np.dot(B, C)\n",
        "\n",
        "print(\"Matriks A:\")\n",
        "print(A)\n",
        "\n",
        "print(\"\\nMatriks B:\")\n",
        "print(B)\n",
        "\n",
        "print(\"\\nMatriks C:\")\n",
        "print(C)\n",
        "\n",
        "print(\"\\nHasil A × B:\")\n",
        "print(AxB)\n",
        "\n",
        "print(\"\\nHasil B × C:\")\n",
        "print(BxC)"
      ],
      "metadata": {
        "id": "GqAxO4JZzFkt",
        "outputId": "e8fc73f7-615e-4e69-fb26-638453dc6f5c",
        "colab": {
          "base_uri": "https://localhost:8080/"
        }
      },
      "execution_count": 16,
      "outputs": [
        {
          "output_type": "stream",
          "name": "stdout",
          "text": [
            "Matriks A:\n",
            "[[3 1]\n",
            " [2 0]]\n",
            "\n",
            "Matriks B:\n",
            "[[ 2  1]\n",
            " [ 1 -1]]\n",
            "\n",
            "Matriks C:\n",
            "[[-1  1  2]\n",
            " [ 2  0 -1]]\n",
            "\n",
            "Hasil A × B:\n",
            "[[7 2]\n",
            " [4 2]]\n",
            "\n",
            "Hasil B × C:\n",
            "[[ 0  2  3]\n",
            " [-3  1  3]]\n"
          ]
        }
      ]
    },
    {
      "cell_type": "code",
      "source": [
        "import math\n",
        "\n",
        "\n",
        "x = math.factorial(6)\n",
        "print(\"6! =\", x)\n",
        "\n",
        "\n",
        "y = math.factorial(8) / math.factorial(5)\n",
        "print(\"8! / 5! =\", y)\n"
      ],
      "metadata": {
        "id": "vm1-lG3e0v7j",
        "outputId": "cd885138-3725-4568-923d-462199f3f3c4",
        "colab": {
          "base_uri": "https://localhost:8080/"
        }
      },
      "execution_count": 17,
      "outputs": [
        {
          "output_type": "stream",
          "name": "stdout",
          "text": [
            "6! = 720\n",
            "8! / 5! = 336.0\n"
          ]
        }
      ]
    },
    {
      "cell_type": "code",
      "source": [
        "import numpy as np\n",
        "\n",
        "A = np.array([5, 3, 7])\n",
        "B = np.array([12, -3, 1])\n",
        "\n",
        "length_A = np.linalg.norm(A)\n",
        "length_B = np.linalg.norm(B)\n",
        "\n",
        "\n",
        "dot_product = np.dot(A, B)\n",
        "\n",
        "cross_product = np.cross(A, B)\n",
        "\n",
        "print(\"Panjang Vektor A:\", length_A)\n",
        "print(\"Panjang Vektor B:\", length_B)\n",
        "print(\"Hasil Perkalian Titik A . B:\", dot_product)\n",
        "print(\"Hasil Perkalian Silang A × B:\\n\", cross_product)\n"
      ],
      "metadata": {
        "id": "itfwHeDU1NN4",
        "outputId": "52e58ce1-6c16-47b6-87f6-af410083804f",
        "colab": {
          "base_uri": "https://localhost:8080/"
        }
      },
      "execution_count": 18,
      "outputs": [
        {
          "output_type": "stream",
          "name": "stdout",
          "text": [
            "Panjang Vektor A: 9.1104335791443\n",
            "Panjang Vektor B: 12.409673645990857\n",
            "Hasil Perkalian Titik A . B: 58\n",
            "Hasil Perkalian Silang A × B:\n",
            " [ 24  79 -51]\n"
          ]
        }
      ]
    }
  ]
}