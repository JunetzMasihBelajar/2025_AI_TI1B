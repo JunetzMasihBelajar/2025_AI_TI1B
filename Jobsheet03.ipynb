{
  "nbformat": 4,
  "nbformat_minor": 0,
  "metadata": {
    "colab": {
      "provenance": [],
      "toc_visible": true,
      "authorship_tag": "ABX9TyO3jxWwFZ7I/vdZu4Er6MCL",
      "include_colab_link": true
    },
    "kernelspec": {
      "name": "python3",
      "display_name": "Python 3"
    },
    "language_info": {
      "name": "python"
    }
  },
  "cells": [
    {
      "cell_type": "markdown",
      "metadata": {
        "id": "view-in-github",
        "colab_type": "text"
      },
      "source": [
        "<a href=\"https://colab.research.google.com/github/JunetzMasihBelajar/2025_AI_TI1B/blob/main/Jobsheet03.ipynb\" target=\"_parent\"><img src=\"https://colab.research.google.com/assets/colab-badge.svg\" alt=\"Open In Colab\"/></a>"
      ]
    },
    {
      "cell_type": "markdown",
      "source": [
        "# Jobsheet 3 : Pengukuran Statistik Deskriptif"
      ],
      "metadata": {
        "id": "Ht0wqb9Z1MhJ"
      }
    },
    {
      "cell_type": "markdown",
      "source": [
        "## 1. Central Tendency"
      ],
      "metadata": {
        "id": "UuX595on1ZuA"
      }
    },
    {
      "cell_type": "markdown",
      "source": [
        "### a. Mendapatkan Nilai Mean"
      ],
      "metadata": {
        "id": "SF7YJVBk1ja5"
      }
    },
    {
      "cell_type": "code",
      "source": [
        "import numpy as np\n",
        "\n",
        "score = [90, 80, 70, 65, 110, 80, 83, 67, 94]\n",
        "\n",
        "x = np.mean(score)\n",
        "print(x)"
      ],
      "metadata": {
        "colab": {
          "base_uri": "https://localhost:8080/"
        },
        "id": "ua4cqYC-1p42",
        "outputId": "6a58ccd9-e5bf-4111-9d79-11d074c5e987"
      },
      "execution_count": 2,
      "outputs": [
        {
          "output_type": "stream",
          "name": "stdout",
          "text": [
            "82.11111111111111\n"
          ]
        }
      ]
    },
    {
      "cell_type": "markdown",
      "source": [
        "### b. Mendapatkan Nilai Median"
      ],
      "metadata": {
        "id": "3NanhFOi2C3z"
      }
    },
    {
      "cell_type": "code",
      "source": [
        "import numpy as np\n",
        "\n",
        "score = [90, 80, 70, 65, 110, 80, 83, 67, 94]\n",
        "\n",
        "x = np.median(score)\n",
        "print(x)"
      ],
      "metadata": {
        "colab": {
          "base_uri": "https://localhost:8080/"
        },
        "id": "sJn-3P542Fdf",
        "outputId": "2876f4a9-e844-4d37-e578-f6b071e915fc"
      },
      "execution_count": 3,
      "outputs": [
        {
          "output_type": "stream",
          "name": "stdout",
          "text": [
            "80.0\n"
          ]
        }
      ]
    },
    {
      "cell_type": "markdown",
      "source": [
        "### c. Mendapatkan Nilai Modus/Mode"
      ],
      "metadata": {
        "id": "Quwt3MNK2Rfw"
      }
    },
    {
      "cell_type": "code",
      "source": [
        "from scipy import stats\n",
        "\n",
        "score = [90, 80, 70, 65, 110, 80, 83, 67, 94]\n",
        "\n",
        "x = stats.mode(score, keepdims=True)\n",
        "print(x)"
      ],
      "metadata": {
        "colab": {
          "base_uri": "https://localhost:8080/"
        },
        "id": "xflMTfeU2X6l",
        "outputId": "c6036dda-c3b9-46cf-a81c-a43222fbe261"
      },
      "execution_count": 4,
      "outputs": [
        {
          "output_type": "stream",
          "name": "stdout",
          "text": [
            "ModeResult(mode=array([80]), count=array([2]))\n"
          ]
        }
      ]
    },
    {
      "cell_type": "markdown",
      "source": [
        "## 2. Spread"
      ],
      "metadata": {
        "id": "fEVtEfZo281L"
      }
    },
    {
      "cell_type": "markdown",
      "source": [
        "### a.\tMendapatkan Nilai Range"
      ],
      "metadata": {
        "id": "viHnNmAw3AHd"
      }
    },
    {
      "cell_type": "code",
      "source": [
        "import numpy as np\n",
        "\n",
        "data = [2, 3, 7, 8, 9, 12, 15, 20, 50, 42]\n",
        "\n",
        "minimum = np.min(data)\n",
        "maximum = np.max(data)\n",
        "x = maximum - minimum\n",
        "print(x)"
      ],
      "metadata": {
        "colab": {
          "base_uri": "https://localhost:8080/"
        },
        "id": "3EP7RvQw2-6q",
        "outputId": "02e9c299-e2c2-41d2-bca2-fdf80b7aeeab"
      },
      "execution_count": 5,
      "outputs": [
        {
          "output_type": "stream",
          "name": "stdout",
          "text": [
            "48\n"
          ]
        }
      ]
    },
    {
      "cell_type": "markdown",
      "source": [
        "### b. Mendapatkan Nilai Percentile"
      ],
      "metadata": {
        "id": "6LomrSJO3a2L"
      }
    },
    {
      "cell_type": "code",
      "source": [
        "import numpy as np\n",
        "\n",
        "data = [90, 80, 70, 65, 110, 80, 83, 67, 94]\n",
        "\n",
        "x = np.percentile(data, 90)\n",
        "print(x)"
      ],
      "metadata": {
        "colab": {
          "base_uri": "https://localhost:8080/"
        },
        "id": "ZUl-kF9B3dql",
        "outputId": "66f84076-fde4-4125-c8e1-3486749ee632"
      },
      "execution_count": 6,
      "outputs": [
        {
          "output_type": "stream",
          "name": "stdout",
          "text": [
            "97.2\n"
          ]
        }
      ]
    },
    {
      "cell_type": "markdown",
      "source": [
        "### c. Mendapatkan Nilai Quartile dan Interquartile Range"
      ],
      "metadata": {
        "id": "vO-atC1u3uK5"
      }
    },
    {
      "cell_type": "code",
      "source": [
        "import numpy as np\n",
        "\n",
        "data = [3, 4, 4, 5, 5, 6, 6, 7, 8, 8, 9, 10]\n",
        "\n",
        "Q1 = np.median(data[:int(len(data)/2)])\n",
        "Q3 = np.median(data[int(len(data)/2):])\n",
        "IQR = Q3 - Q1\n",
        "\n",
        "print('Q1:', Q1)\n",
        "print('Q3:', Q3)\n",
        "print('IQR:', IQR)"
      ],
      "metadata": {
        "colab": {
          "base_uri": "https://localhost:8080/"
        },
        "id": "UPVe9mCD3x7w",
        "outputId": "9d670a43-50ab-40d0-80c8-6d2222f03a72"
      },
      "execution_count": 7,
      "outputs": [
        {
          "output_type": "stream",
          "name": "stdout",
          "text": [
            "Q1: 4.5\n",
            "Q3: 8.0\n",
            "IQR: 3.5\n"
          ]
        }
      ]
    },
    {
      "cell_type": "markdown",
      "source": [
        "### d.\tMendapatkan Nilai Variance dan Standart Deviation"
      ],
      "metadata": {
        "id": "OYuRIr0C4NvU"
      }
    },
    {
      "cell_type": "code",
      "source": [
        "import numpy as np\n",
        "\n",
        "data= [86, 87, 88, 86, 87, 85, 86]\n",
        "\n",
        "mean = np.mean(data)\n",
        "var = np.var(data)\n",
        "std = np.std(data)\n",
        "\n",
        "print('Mean:', mean)\n",
        "print('Variance:', var)\n",
        "print('Std:', std)"
      ],
      "metadata": {
        "colab": {
          "base_uri": "https://localhost:8080/"
        },
        "id": "HrC53J_Z4Pgm",
        "outputId": "0b29ce28-7639-4eec-f943-0757b840a77d"
      },
      "execution_count": 8,
      "outputs": [
        {
          "output_type": "stream",
          "name": "stdout",
          "text": [
            "Mean: 86.42857142857143\n",
            "Variance: 0.8163265306122449\n",
            "Std: 0.9035079029052513\n"
          ]
        }
      ]
    },
    {
      "cell_type": "markdown",
      "source": [
        "## Latihan Praktikum"
      ],
      "metadata": {
        "id": "4H38XKqd63H0"
      }
    },
    {
      "cell_type": "code",
      "source": [
        "from scipy import stats\n",
        "\n",
        "data = [1, 2, 3, 4, 5, 5, 6, 2, 3, 4, 5, 6, 6, 4, 3, 2, 1, 4, 3, 5, 6, 6, 5, 4, 5]\n",
        "\n",
        "x = stats.mode(data, keepdims=True)\n",
        "print(x)\n"
      ],
      "metadata": {
        "colab": {
          "base_uri": "https://localhost:8080/"
        },
        "id": "JAiYVmCA648P",
        "outputId": "e1893ac7-6454-47e3-c376-30032fb633ca"
      },
      "execution_count": 9,
      "outputs": [
        {
          "output_type": "stream",
          "name": "stdout",
          "text": [
            "ModeResult(mode=array([5]), count=array([6]))\n"
          ]
        }
      ]
    },
    {
      "cell_type": "code",
      "source": [
        "import numpy as np\n",
        "\n",
        "data = [9, 10, 11, 6, 8, 7, 7, 5, 4, 5]\n",
        "p25 = np.percentile(data, 25)\n",
        "p75 = np.percentile(data, 75)\n",
        "\n",
        "print(\"Persentil ke-25:\", p25)\n",
        "print(\"Persentil ke-75:\", p75)\n"
      ],
      "metadata": {
        "colab": {
          "base_uri": "https://localhost:8080/"
        },
        "id": "rl7z1SWk8vie",
        "outputId": "603aac8c-8ade-454f-8637-d8cb31ea3e44"
      },
      "execution_count": 10,
      "outputs": [
        {
          "output_type": "stream",
          "name": "stdout",
          "text": [
            "Persentil ke-25: 5.25\n",
            "Persentil ke-75: 8.75\n"
          ]
        }
      ]
    },
    {
      "cell_type": "code",
      "source": [
        "import numpy as np\n",
        "\n",
        "# Data nilai ujian\n",
        "data = [50, 54, 62, 50, 52, 59, 61, 63, 65, 10, 53, 63, 65, 50, 59, 62, 50, 51, 57, 60, 63, 65, 65, 53, 99]\n",
        "\n",
        "# Nomor 1: Urutkan data\n",
        "data_sorted = sorted(data)\n",
        "print(\"1. Data yang telah diurutkan:\")\n",
        "print(data_sorted)\n",
        "\n",
        "# Nomor 2: Hitung Q1, Q3, dan IQR\n",
        "q1 = np.percentile(data_sorted, 25)\n",
        "q3 = np.percentile(data_sorted, 75)\n",
        "iqr = q3 - q1\n",
        "\n",
        "print(\"\\n2. Kuartil dan IQR:\")\n",
        "print(\"Q1 (Kuartil 1):\", q1)\n",
        "print(\"Q3 (Kuartil 3):\", q3)\n",
        "print(\"IQR (Q3 - Q1) :\", iqr)\n",
        "\n",
        "# Nomor 3: Hitung batas bawah dan atas\n",
        "lower_bound = q1 - 1.5 * iqr\n",
        "upper_bound = q3 + 1.5 * iqr\n",
        "\n",
        "print(\"\\n3. Batas Bawah dan Atas:\")\n",
        "print(\"Lower Bound :\", lower_bound)\n",
        "print(\"Upper Bound :\", upper_bound)\n",
        "\n",
        "# Nomor 4: Identifikasi nilai outlier\n",
        "outliers = [x for x in data if x < lower_bound or x > upper_bound]\n",
        "print(\"\\n4. Outlier (nilai di luar batas):\")\n",
        "print(outliers)\n"
      ],
      "metadata": {
        "colab": {
          "base_uri": "https://localhost:8080/"
        },
        "id": "55APnVcB_M8I",
        "outputId": "e5787840-c814-4d62-9dbc-426f2488b45e"
      },
      "execution_count": 11,
      "outputs": [
        {
          "output_type": "stream",
          "name": "stdout",
          "text": [
            "1. Data yang telah diurutkan:\n",
            "[10, 50, 50, 50, 50, 51, 52, 53, 53, 54, 57, 59, 59, 60, 61, 62, 62, 63, 63, 63, 65, 65, 65, 65, 99]\n",
            "\n",
            "2. Kuartil dan IQR:\n",
            "Q1 (Kuartil 1): 52.0\n",
            "Q3 (Kuartil 3): 63.0\n",
            "IQR (Q3 - Q1) : 11.0\n",
            "\n",
            "3. Batas Bawah dan Atas:\n",
            "Lower Bound : 35.5\n",
            "Upper Bound : 79.5\n",
            "\n",
            "4. Outlier (nilai di luar batas):\n",
            "[10, 99]\n"
          ]
        }
      ]
    },
    {
      "cell_type": "code",
      "source": [
        "import numpy as np\n",
        "\n",
        "# Titik tengah setiap kelas\n",
        "data = [43, 48, 52.5, 58, 63, 68]\n",
        "frekuensi = [2, 3, 6, 4, 5, 2]\n",
        "\n",
        "# Hitung mean\n",
        "mean = np.sum(np.multiply(data, frekuensi)) / np.sum(frekuensi)\n",
        "\n",
        "# Hitung varians\n",
        "var = np.sum(np.multiply(frekuensi, (np.array(data) - mean) ** 2)) / np.sum(frekuensi)\n",
        "\n",
        "# Hitung standar deviasi\n",
        "std = np.sqrt(var)\n",
        "\n",
        "print(\"Mean:\", mean)\n",
        "print(\"Variance:\", var)\n",
        "print(\"Standard Deviation:\", std)\n"
      ],
      "metadata": {
        "colab": {
          "base_uri": "https://localhost:8080/"
        },
        "id": "UvyJWu5jAWAo",
        "outputId": "272a65d6-2e39-457d-c59a-483e6a2ef7ae"
      },
      "execution_count": 13,
      "outputs": [
        {
          "output_type": "stream",
          "name": "stdout",
          "text": [
            "Mean: 55.81818181818182\n",
            "Variance: 52.353305785123965\n",
            "Standard Deviation: 7.235558429390503\n"
          ]
        }
      ]
    }
  ]
}